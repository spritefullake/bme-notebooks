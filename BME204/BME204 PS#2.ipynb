{
 "cells": [
  {
   "cell_type": "markdown",
   "metadata": {},
   "source": [
    "Why is the simple hexagon not a two-dimensional point lattice?\n",
    "![hexagon](./images/hexagonal_diagram.png)\n",
    "![answer](./images/hexagonal_notes.png)\n"
   ]
  },
  {
   "cell_type": "markdown",
   "metadata": {},
   "source": [
    "I think the answer is A and B don't have identical environments (They are mirror images.)"
   ]
  },
  {
   "cell_type": "markdown",
   "metadata": {},
   "source": [
    "What would be an equivalent two-dimensional point lattice for the area-centered hexagon?\n",
    "![shapes](./images/shapes.png)"
   ]
  },
  {
   "cell_type": "markdown",
   "metadata": {},
   "source": [
    "The rhombus since it fits into the motif of the hexagon!"
   ]
  },
  {
   "cell_type": "markdown",
   "metadata": {},
   "source": [
    "Calculate the APF for the fcc metal structure.\n"
   ]
  },
  {
   "cell_type": "markdown",
   "metadata": {},
   "source": [
    "![BCC depiction](./images/bcc.png)\n",
    "![FCC depiction](./images/fcc.png)\n",
    "![HCP depiction](./images/hcp.png)"
   ]
  },
  {
   "cell_type": "markdown",
   "metadata": {},
   "source": [
    "![atomic packing factor](./images/apf.png)\n"
   ]
  },
  {
   "cell_type": "code",
   "execution_count": 41,
   "metadata": {},
   "outputs": [],
   "source": [
    "from math import *\n",
    "from enum import Enum\n",
    "from helpers import sig\n",
    "\n",
    "Shapes = Enum('CrystalShapes','FCC BCC HCP SimpleCubic')\n",
    "# although r is unnecessary,\n",
    "# this depicts the equation\n",
    "# the atomic packing factor is also known as the filling factor\n",
    "def apf(shape,r=1):\n",
    "    # apf is the ratio of atoms to total space in a unit cell\n",
    "    # a is the edge length\n",
    "    if shape == Shapes.BCC:\n",
    "        atoms = 2\n",
    "        a = 4*r/sqrt(3)\n",
    "    elif shape == Shapes.FCC:\n",
    "        atoms = 4\n",
    "        a = 4*r/sqrt(2)\n",
    "    elif shape == Shapes.HCP:\n",
    "        atoms = 2\n",
    "        a = 2*r\n",
    "    elif shape == Shapes.SimpleCubic:\n",
    "        atoms = 1\n",
    "        a = 2*r\n",
    "    return atoms*4/3*pi*r**3/a**3\n",
    "assert sig(apf(Shapes.BCC)) == 0.680\n",
    "answer = apf(Shapes.FCC)\n",
    "assert sig(answer,3) == 0.740"
   ]
  },
  {
   "cell_type": "markdown",
   "metadata": {},
   "source": [
    "How much volume of the simple cubic unit cell is empty space (i.e. NOT filled by the atoms)?\n",
    "\n",
    "8 corners in a simple cubic implies that 1/8 of the 8 atoms at the corners are enclosed in the unit cell\n",
    "\n",
    "![lattices diagrams all of them](./images/lattices.png)"
   ]
  },
  {
   "cell_type": "code",
   "execution_count": 40,
   "metadata": {},
   "outputs": [
    {
     "data": {
      "text/plain": [
       "0.4764012244017012"
      ]
     },
     "execution_count": 40,
     "metadata": {},
     "output_type": "execute_result"
    }
   ],
   "source": [
    "def free_space(shape):\n",
    "    return 1 - apf(shape) \n",
    "free_space(Shapes.SimpleCubic)"
   ]
  },
  {
   "cell_type": "markdown",
   "metadata": {},
   "source": [
    "Under what conditions does the triclinic system reduce to the hexagonal system?\n"
   ]
  },
  {
   "cell_type": "markdown",
   "metadata": {},
   "source": [
    "![triclinic conditions needed to change to hexagonal](./images/triclinic.png)\n",
    "![hcp angles](./images/hcp_angles.png)\n",
    "I think it is the first one"
   ]
  },
  {
   "cell_type": "markdown",
   "metadata": {},
   "source": [
    "Which two-dimensional point lattice corresponds to this structure?\n",
    "![ the atomic-scale structure of a crystalline ceramic](./images/hexagonal_black_white.jpg)"
   ]
  },
  {
   "cell_type": "markdown",
   "metadata": {},
   "source": [
    "In BCC, the number of atoms per unit cell and the expression that relates the lattice parameter, a, to the atomic radius, r, is:\n",
    "\n",
    "2 atoms and 4r = sqrt(3) * a"
   ]
  },
  {
   "cell_type": "code",
   "execution_count": null,
   "metadata": {},
   "outputs": [],
   "source": []
  }
 ],
 "metadata": {
  "kernelspec": {
   "display_name": "Python 3",
   "language": "python",
   "name": "python3"
  },
  "language_info": {
   "codemirror_mode": {
    "name": "ipython",
    "version": 3
   },
   "file_extension": ".py",
   "mimetype": "text/x-python",
   "name": "python",
   "nbconvert_exporter": "python",
   "pygments_lexer": "ipython3",
   "version": "3.7.4"
  }
 },
 "nbformat": 4,
 "nbformat_minor": 2
}
