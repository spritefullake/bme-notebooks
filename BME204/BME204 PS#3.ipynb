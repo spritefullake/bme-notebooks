{
 "cells": [
  {
   "cell_type": "markdown",
   "metadata": {},
   "source": [
    "# Question 1, Part A\n",
    "\n",
    "![Vector Plane Unit Cell](images/unit_cell_plane_vectors_question.png)\n",
    "\n",
    "##### I think it's the second one \n",
    "<input type=\"checkbox\" checked/>\n",
    "\n",
    "\n",
    "# Question 2, Part A\n",
    "\n",
    "![Powder Peaks](images/powder_peaks.png)\n",
    "\n",
    "Remember that the miller indices represent the **reciprocal** of the plane's intercepts along each of these axes.\n",
    "![miller indices slide](images/miller_indices_slide.png)\n",
    "\n",
    "Miller index of zero indicates that the intercept = 1/0 meaning that the plane **DOES NOT** intersect that given axis (they meet at infinity).\n",
    "\n",
    "<font color=\"green\"> Can miller indices be compared to normal vectors? </font>"
   ]
  },
  {
   "cell_type": "markdown",
   "metadata": {},
   "source": [
    "How much volume of the simple cubic unit cell is empty space (i.e. NOT filled by the atoms)?\n",
    "\n",
    "<font color=\"red\">48%</font>\n",
    "<input type=\"checkbox\" checked />\n",
    "\n",
    "<img src=\"images/apf_empty_space.png\" alt=\"empty space\">"
   ]
  },
  {
   "cell_type": "markdown",
   "metadata": {},
   "source": [
    "<img src=\"images/polyethylene_apf.png\" alt=\"Polyethylene Solution\"/>"
   ]
  },
  {
   "cell_type": "code",
   "execution_count": 22,
   "metadata": {},
   "outputs": [
    {
     "name": "stdout",
     "output_type": "stream",
     "text": [
      "0.11694581458983587\n"
     ]
    }
   ],
   "source": [
    "c_rad = 0.077E-9 # m\n",
    "h_rad = 0.046E-9 # m\n",
    "c_per_cell = 4.\n",
    "h_per_cell = 8.\n",
    "from math import pi\n",
    "area = 4. / 3. * pi * (c_per_cell*c_rad**3 + h_per_cell*h_rad**3)\n",
    "a = 0.0933E-27 # m^3 | edge\n",
    "total_space = a\n",
    "apf = area / total_space\n",
    "print(apf)"
   ]
  },
  {
   "cell_type": "markdown",
   "metadata": {},
   "source": [
    "<img src=\"images/magnitudes.png\" alt=\"Family of directions in the cubic system\"/>\n",
    "\n",
    "For 112, think about the probability and combinatorics of the problem. \n",
    "\n",
    "![Good explanation for crystal families](images/crystal_family_truth.png)\n",
    "\n",
    "![Great example](images/example_crystal_directions.png)\n",
    "\n",
    "\n",
    "![all crystal parameters](images/all_crystal_parameters.png)\n",
    "\n",
    "![Crystal directions](images/crystal_directions.png)"
   ]
  },
  {
   "attachments": {},
   "cell_type": "markdown",
   "metadata": {},
   "source": [
    "![Lattice Vectors](images/lattice_vectors_partA.png)\n",
    "\n",
    "![Lattice Vectors](images/lattice_vectors_partBC.png)"
   ]
  },
  {
   "cell_type": "code",
   "execution_count": 53,
   "metadata": {},
   "outputs": [
    {
     "name": "stdout",
     "output_type": "stream",
     "text": [
      "0.018848048803647207\n"
     ]
    },
    {
     "data": {
      "text/plain": [
       "19.471220634490674"
      ]
     },
     "execution_count": 53,
     "metadata": {},
     "output_type": "execute_result"
    }
   ],
   "source": [
    "from math import cos, acos, sqrt, pi\n",
    "v1 = (1,1,1)\n",
    "v2 = (1,1,2)\n",
    "\n",
    "answer = acos(2./(3. * sqrt(2.)))\n",
    "print(answer * pi/180)\n",
    "\n",
    "mag = lambda x, y, z : sqrt(sum((x**2, y**2, z**2)))\n",
    "\n",
    "numerator = sum(p * q for p, q in zip(v1, v2))\n",
    "denominator = mag(*v1) * mag(*v2)\n",
    "cos_theta = numerator / denominator\n",
    "acos(cos_theta) * 180 / pi"
   ]
  },
  {
   "cell_type": "code",
   "execution_count": null,
   "metadata": {},
   "outputs": [],
   "source": []
  }
 ],
 "metadata": {
  "kernelspec": {
   "display_name": "Python 3",
   "language": "python",
   "name": "python3"
  },
  "language_info": {
   "codemirror_mode": {
    "name": "ipython",
    "version": 3
   },
   "file_extension": ".py",
   "mimetype": "text/x-python",
   "name": "python",
   "nbconvert_exporter": "python",
   "pygments_lexer": "ipython3",
   "version": "3.7.4"
  }
 },
 "nbformat": 4,
 "nbformat_minor": 2
}
